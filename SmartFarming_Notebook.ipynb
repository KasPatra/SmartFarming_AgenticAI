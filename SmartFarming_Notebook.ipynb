{
 "cells": [
  {
   "cell_type": "markdown",
   "id": "fb7fb848",
   "metadata": {},
   "source": [
    "# 🌾 Smart Farming Agentic AI\n",
    "This notebook interacts with your deployed IBM Watsonx.ai model to answer agriculture-related questions using document-grounded responses."
   ]
  },
  {
   "cell_type": "markdown",
   "id": "30ce8750",
   "metadata": {},
   "source": [
    " Step 1: Set Up Authentication\n",
    "Replace `<your API key>` with your actual IBM Cloud API Key."
   ]
  },
  {
   "cell_type": "code",
   "execution_count": null,
   "id": "354a5e96",
   "metadata": {},
   "outputs": [],
   "source": [
    "import requests\n",
    "\n",
    "API_KEY = \"<HDR4JO0r7nWd2iwJVShUuB-6RPPbjDs1M8nTm7yblith>\"  # 🔒 Replace this with your actual API key\n",
    "token_response = requests.post(\n",
    "    'https://iam.cloud.ibm.com/identity/token',\n",
    "    data={\"apikey\": API_KEY, \"grant_type\": 'urn:ibm:params:oauth:grant-type:apikey'}\n",
    ")\n",
    "mltoken = token_response.json()[\"access_token\"]\n",
    "print(\"✅ Token acquired\")"
   ]
  },
  {
   "cell_type": "markdown",
   "id": "0c877d9d",
   "metadata": {},
   "source": [
    "## 📨 Step 2: Prepare the Request Payload\n",
    "Customize the message with your farming-related question."
   ]
  },
  {
   "cell_type": "code",
   "execution_count": null,
   "id": "773e348b",
   "metadata": {},
   "outputs": [],
   "source": [
    "header = {'Content-Type': 'application/json', 'Authorization': 'Bearer ' + mltoken}\n",
    "\n",
    "payload_scoring = {\n",
    "    \"messages\": [\n",
    "        {\n",
    "            \"role\": \"user\",\n",
    "            \"content\": \"What fertilizer should I use for tomatoes in rainy season?\"\n",
    "        }\n",
    "    ]\n",
    "}"
   ]
  },
  {
   "cell_type": "markdown",
   "id": "c63110da",
   "metadata": {},
   "source": [
    " Step 3: Send Request to Watsonx.ai Deployment\n",
    "Replace the deployment URL with your own."
   ]
  },
  {
   "cell_type": "code",
   "execution_count": null,
   "id": "70e4dc41",
   "metadata": {},
   "outputs": [],
   "source": [
    "response_scoring = requests.post(\n",
    "    'https://us-south.ml.cloud.ibm.com/ml/v4/deployments/d0126e1e-3408-4d77-912c-013bbd97af1f/ai_service_stream?version=2021-05-01',\n",
    "    json=payload_scoring,\n",
    "    headers={'Authorization': 'Bearer ' + mltoken}\n",
    ")\n",
    "\n",
    "print(\"🤖 AI Response:\")\n",
    "try:\n",
    "    print(response_scoring.json())\n",
    "except ValueError:\n",
    "    print(response_scoring.text)\n",
    "except Exception as e:\n",
    "    print(f\"An unexpected error occurred: {e}\")"
   ]
  }
 ],
 "metadata": {
  "language_info": {
   "name": "python"
  }
 },
 "nbformat": 4,
 "nbformat_minor": 5
}
